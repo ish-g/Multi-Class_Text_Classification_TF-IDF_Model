{
 "cells": [
  {
   "cell_type": "markdown",
   "id": "987cfdfd-8864-4352-8d90-8a5617ef5cd3",
   "metadata": {},
   "source": [
    "# Multi-Class Text Classification with Scikit-Learn using TF-IDF model"
   ]
  },
  {
   "cell_type": "markdown",
   "id": "97bf7f80-2e19-4fd6-ac10-923a562d83c7",
   "metadata": {},
   "source": [
    "### 1. Import Necessary Libraries"
   ]
  },
  {
   "cell_type": "code",
   "execution_count": 1,
   "id": "2d3e6011-4e15-4e32-8d40-ebf9a23bd341",
   "metadata": {},
   "outputs": [],
   "source": [
    "import pandas as pd\n",
    "import numpy as np\n",
    "import matplotlib.pyplot as plt\n",
    "import seaborn as sns\n",
    "import json\n",
    "import plotly\n",
    "import plotly.express as px\n",
    "\n",
    "pd.set_option('display.max_rows', None)\n",
    "pd.set_option('display.max_columns', None)"
   ]
  },
  {
   "cell_type": "markdown",
   "id": "f4227775-b748-409f-aa21-3962b34f3f80",
   "metadata": {},
   "source": [
    "### 2. Load and Explore the Dataset\n",
    "For text classification, you can use any labeled dataset. Here, let's consider using a dataset like the 20 Newsgroups dataset available in Scikit-Learn."
   ]
  },
  {
   "cell_type": "markdown",
   "id": "901177f3-c810-45da-a5fe-facce7add648",
   "metadata": {
    "jp-MarkdownHeadingCollapsed": true
   },
   "source": [
    "##### DataSet1 - Twitter Sample"
   ]
  },
  {
   "cell_type": "code",
   "execution_count": 2,
   "id": "09d501df-bf24-4345-943d-ca6c9a7589ae",
   "metadata": {},
   "outputs": [],
   "source": [
    "# import nltk\n",
    "# from nltk.corpus import twitter_samples\n",
    "\n",
    "# # nltk.download('twitter_samples')\n",
    "\n",
    "# # Load positive tweets\n",
    "# positive_tweets = twitter_samples.raw('positive_tweets.json')\n",
    "\n",
    "# # Load negative tweets\n",
    "# negative_tweets = twitter_samples.raw('negative_tweets.json')\n",
    "\n",
    "# # Load a general tweet file (can be a mix of positive and negative)\n",
    "# all_tweets = twitter_samples.raw('tweets.20150430-223406.json')\n",
    "\n",
    "# def load_json_lines(json_data):\n",
    "#     tweets = []\n",
    "#     for line in json_data.splitlines():\n",
    "#         if line.strip():  # Skip empty lines\n",
    "#             tweets.append(json.loads(line))\n",
    "#     return tweets\n",
    "\n",
    "# # Load and parse the tweets data\n",
    "# positive_tweets_list = load_json_lines(positive_tweets)\n",
    "# negative_tweets_list = load_json_lines(negative_tweets)\n",
    "\n",
    "# # Convert to DataFrames\n",
    "# positive_df = pd.DataFrame(positive_tweets_list)\n",
    "# negative_df = pd.DataFrame(negative_tweets_list)\n",
    "\n",
    "# # Add labels\n",
    "# positive_df['label'] = 'positive'\n",
    "# negative_df['label'] = 'negative'\n",
    "\n",
    "# # Combine into a single DataFrame\n",
    "# df = pd.concat([positive_df, negative_df], ignore_index=True)\n",
    "\n",
    "# print(df[['text', 'label']]['text'].head()[0])\n",
    "# print(df[['text', 'label']]['label'].head()[0])"
   ]
  },
  {
   "cell_type": "markdown",
   "id": "f707b802-31c6-4c4e-86a3-b03384364506",
   "metadata": {},
   "source": [
    "##### Dataset2 - newsgroups"
   ]
  },
  {
   "cell_type": "code",
   "execution_count": 3,
   "id": "085f93a0-afe3-432d-baeb-e932130e6f20",
   "metadata": {},
   "outputs": [
    {
     "data": {
      "text/html": [
       "<div>\n",
       "<style scoped>\n",
       "    .dataframe tbody tr th:only-of-type {\n",
       "        vertical-align: middle;\n",
       "    }\n",
       "\n",
       "    .dataframe tbody tr th {\n",
       "        vertical-align: top;\n",
       "    }\n",
       "\n",
       "    .dataframe thead th {\n",
       "        text-align: right;\n",
       "    }\n",
       "</style>\n",
       "<table border=\"1\" class=\"dataframe\">\n",
       "  <thead>\n",
       "    <tr style=\"text-align: right;\">\n",
       "      <th></th>\n",
       "      <th>text</th>\n",
       "      <th>label</th>\n",
       "    </tr>\n",
       "  </thead>\n",
       "  <tbody>\n",
       "    <tr>\n",
       "      <th>0</th>\n",
       "      <td>From: sd345@city.ac.uk (Michael Collier)\\nSubj...</td>\n",
       "      <td>1</td>\n",
       "    </tr>\n",
       "    <tr>\n",
       "      <th>1</th>\n",
       "      <td>From: ani@ms.uky.edu (Aniruddha B. Deglurkar)\\...</td>\n",
       "      <td>1</td>\n",
       "    </tr>\n",
       "    <tr>\n",
       "      <th>2</th>\n",
       "      <td>From: djohnson@cs.ucsd.edu (Darin Johnson)\\nSu...</td>\n",
       "      <td>3</td>\n",
       "    </tr>\n",
       "    <tr>\n",
       "      <th>3</th>\n",
       "      <td>From: s0612596@let.rug.nl (M.M. Zwart)\\nSubjec...</td>\n",
       "      <td>3</td>\n",
       "    </tr>\n",
       "    <tr>\n",
       "      <th>4</th>\n",
       "      <td>From: stanly@grok11.columbiasc.ncr.com (stanly...</td>\n",
       "      <td>3</td>\n",
       "    </tr>\n",
       "  </tbody>\n",
       "</table>\n",
       "</div>"
      ],
      "text/plain": [
       "                                                text  label\n",
       "0  From: sd345@city.ac.uk (Michael Collier)\\nSubj...      1\n",
       "1  From: ani@ms.uky.edu (Aniruddha B. Deglurkar)\\...      1\n",
       "2  From: djohnson@cs.ucsd.edu (Darin Johnson)\\nSu...      3\n",
       "3  From: s0612596@let.rug.nl (M.M. Zwart)\\nSubjec...      3\n",
       "4  From: stanly@grok11.columbiasc.ncr.com (stanly...      3"
      ]
     },
     "execution_count": 3,
     "metadata": {},
     "output_type": "execute_result"
    }
   ],
   "source": [
    "from sklearn.datasets import fetch_20newsgroups\n",
    "\n",
    "# Load dataset\n",
    "newsgroups = fetch_20newsgroups(subset='train', categories=['alt.atheism', 'comp.graphics', 'sci.med', 'soc.religion.christian'])\n",
    "data = newsgroups.data\n",
    "target = newsgroups.target\n",
    "\n",
    "# Create a DataFrame\n",
    "df = pd.DataFrame({'text': data, 'label': target})\n",
    "\n",
    "# Display first few rows\n",
    "df.head()"
   ]
  },
  {
   "cell_type": "markdown",
   "id": "5df6d030-7470-4177-97e8-2ae1d6fee9a1",
   "metadata": {
    "jp-MarkdownHeadingCollapsed": true
   },
   "source": [
    "##### Dataset3 - Questions-Subject - Classification"
   ]
  },
  {
   "cell_type": "code",
   "execution_count": 4,
   "id": "29b4e1b1-5461-4163-97a2-efbd37c6c399",
   "metadata": {},
   "outputs": [],
   "source": [
    "# df = pd.read_csv('Question_Classification_Dataset.csv')\n",
    "# df = df[['Questions', 'Category0']].rename(columns=({'Questions': 'text', 'Category0': 'label'}))"
   ]
  },
  {
   "cell_type": "markdown",
   "id": "900f3eee-5a57-4f1d-9515-c4b270cb5249",
   "metadata": {},
   "source": [
    "### 3. Text Preprocessing\n",
    "Text data often contains unnecessary noise like punctuation, special characters, and stop words. Preprocessing is crucial to ensure better model performance."
   ]
  },
  {
   "cell_type": "code",
   "execution_count": 5,
   "id": "a851f9e0-f30a-4c39-a824-a1e651edffaa",
   "metadata": {},
   "outputs": [],
   "source": [
    "import re\n",
    "from sklearn.feature_extraction.text import ENGLISH_STOP_WORDS\n",
    "\n",
    "def preprocess_text(text):\n",
    "    # Remove special characters and digits\n",
    "    text = re.sub(r'[^a-zA-Z\\s]', ' ', text)  # Keep only alphabets and spaces\n",
    "    text = re.sub(r'\\s+', ' ', text)  # Replace multiple spaces with a single space\n",
    "    text = text.lower().strip()  # Convert to lowercase and strip whitespace\n",
    "    return text\n",
    "\n",
    "# Apply preprocessing\n",
    "df['text'] = df['text'].apply(preprocess_text)"
   ]
  },
  {
   "cell_type": "markdown",
   "id": "f721637b-1704-49ac-92a0-71a783f921b1",
   "metadata": {},
   "source": [
    "#### Tokenization"
   ]
  },
  {
   "cell_type": "code",
   "execution_count": 6,
   "id": "0a51d6ad-3d0d-49cc-90b4-2509c7eb0c15",
   "metadata": {},
   "outputs": [
    {
     "data": {
      "text/plain": [
       "0    [from, sd, city, ac, uk, michael, collier, sub...\n",
       "1    [from, ani, ms, uky, edu, aniruddha, b, deglur...\n",
       "2    [from, djohnson, cs, ucsd, edu, darin, johnson...\n",
       "3    [from, s, let, rug, nl, m, m, zwart, subject, ...\n",
       "4    [from, stanly, grok, columbiasc, ncr, com, sta...\n",
       "Name: tokens, dtype: object"
      ]
     },
     "execution_count": 6,
     "metadata": {},
     "output_type": "execute_result"
    }
   ],
   "source": [
    "import nltk\n",
    "# nltk.download('punkt')\n",
    "from nltk.tokenize import word_tokenize\n",
    "\n",
    "# Tokenize the text data\n",
    "df['tokens'] = df['text'].apply(word_tokenize)\n",
    "df['tokens'].head()"
   ]
  },
  {
   "cell_type": "markdown",
   "id": "0cbeccc9-ad02-4f3a-875b-8260857835ed",
   "metadata": {},
   "source": [
    "#### Lemmatization"
   ]
  },
  {
   "cell_type": "code",
   "execution_count": 7,
   "id": "61129302-bd4e-4de6-8b4e-429ab2a479c4",
   "metadata": {},
   "outputs": [],
   "source": [
    "from nltk.stem import WordNetLemmatizer\n",
    "# nltk.download('wordnet')\n",
    "# nltk.download('omw-1.4')\n",
    "\n",
    "# Initialize lemmatizer\n",
    "lemmatizer = WordNetLemmatizer()\n",
    "\n",
    "# Apply lemmatization\n",
    "df['lemmatized'] = df['tokens'].apply(lambda tokens: [lemmatizer.lemmatize(token) for token in tokens])\n",
    "\n",
    "# Convert list of words in each row to a single string\n",
    "df['lemmatized'] = df['lemmatized'].apply(lambda x: ' '.join(x) if isinstance(x, list) else x)"
   ]
  },
  {
   "cell_type": "markdown",
   "id": "68145a9c-f8a1-463b-9088-970ee38a4138",
   "metadata": {},
   "source": [
    "### 4. Feature Extraction using TF-IDF\n",
    "Transform the cleaned text into numerical features using the TF-IDF vectorizer.\n",
    "\n",
    "##### TfidfVectorizer(sublinear_tf=True, min_df=5, norm='l2', encoding='latin-1', ngram_range=(1, 2), stop_words='english')"
   ]
  },
  {
   "cell_type": "markdown",
   "id": "76a6003c-30cc-4e7d-a5d1-89a0ba3ce7b5",
   "metadata": {},
   "source": [
    "### 5. Model Building (Training the Classifier)"
   ]
  },
  {
   "cell_type": "code",
   "execution_count": 8,
   "id": "e805d348-fbb0-47a5-a1fa-a95fc9244ed5",
   "metadata": {},
   "outputs": [],
   "source": [
    "from sklearn.model_selection import train_test_split\n",
    "\n",
    "# Split data into training and testing sets\n",
    "X_train, X_test, y_train, y_test = train_test_split(df['lemmatized'], df['label'], test_size=0.2, random_state=42)"
   ]
  },
  {
   "cell_type": "code",
   "execution_count": 9,
   "id": "3f2a327c-f9e9-435f-8b71-d5a3ff65473a",
   "metadata": {},
   "outputs": [],
   "source": [
    "from sklearn.naive_bayes import MultinomialNB\n",
    "from sklearn.svm import SVC\n",
    "from sklearn.pipeline import Pipeline\n",
    "from sklearn.model_selection import cross_val_score\n",
    "from sklearn.tree import DecisionTreeClassifier\n",
    "from sklearn.ensemble import BaggingClassifier, RandomForestClassifier\n",
    "from sklearn.feature_extraction.text import TfidfVectorizer\n",
    "from sklearn.metrics import classification_report, confusion_matrix, accuracy_score"
   ]
  },
  {
   "cell_type": "code",
   "execution_count": 10,
   "id": "72caa7cb-071a-41f9-a7ef-311affd7c216",
   "metadata": {},
   "outputs": [],
   "source": [
    "# Function to evaluate models\n",
    "def evaluate_models(models, X_train, y_train, X_test, y_test):\n",
    "    results = {}\n",
    "    for name, model in models.items():\n",
    "        print(f\"Training {name}...\")\n",
    "        model.fit(X_train, y_train)\n",
    "        y_pred = model.predict(X_test)\n",
    "        \n",
    "        accuracy = accuracy_score(y_test, y_pred)\n",
    "        conf_matrix = confusion_matrix(y_test, y_pred)\n",
    "        class_report = classification_report(y_test, y_pred)\n",
    "        \n",
    "        results[name] = {\n",
    "            'Accuracy': accuracy,\n",
    "            'Confusion Matrix': conf_matrix,\n",
    "            'Classification Report': class_report\n",
    "        }\n",
    "        \n",
    "        print(f\"\\n{name} Results:\")\n",
    "        print(f\"Accuracy: {accuracy:.2f}\")\n",
    "        print(\"Confusion Matrix:\\n\", conf_matrix)\n",
    "        print(\"Classification Report:\\n\", class_report)\n",
    "    \n",
    "    return results"
   ]
  },
  {
   "cell_type": "code",
   "execution_count": 11,
   "id": "2d01b6e6-9eb6-4cd1-a899-37994bed5ed8",
   "metadata": {},
   "outputs": [],
   "source": [
    "# Define a dictionary of models to evaluate\n",
    "models = {\n",
    "    'MultinomialNB': Pipeline([\n",
    "        ('tfidf', TfidfVectorizer(\n",
    "            sublinear_tf=True,\n",
    "            min_df=5,\n",
    "            norm='l2',\n",
    "            encoding='latin-1',\n",
    "            ngram_range=(1, 2),\n",
    "            stop_words='english'\n",
    "        )),\n",
    "        ('clf', MultinomialNB())\n",
    "    ]),\n",
    "    \n",
    "    'Bagging with DecisionTree': Pipeline([\n",
    "        ('tfidf', TfidfVectorizer(\n",
    "            sublinear_tf=True,\n",
    "            min_df=5,\n",
    "            norm='l2',\n",
    "            encoding='latin-1',\n",
    "            ngram_range=(1, 2),\n",
    "            stop_words='english'\n",
    "        )),\n",
    "        ('clf', BaggingClassifier(estimator=DecisionTreeClassifier(), n_estimators=10))\n",
    "    ]),\n",
    "    \n",
    "    'Bagging with SVC': Pipeline([\n",
    "        ('tfidf', TfidfVectorizer(\n",
    "            sublinear_tf=True,\n",
    "            min_df=5,\n",
    "            norm='l2',\n",
    "            encoding='latin-1',\n",
    "            ngram_range=(1, 2),\n",
    "            stop_words='english'\n",
    "        )),\n",
    "        ('clf', BaggingClassifier(estimator=SVC(kernel='linear', probability=True), n_estimators=10))\n",
    "    ])\n",
    "}"
   ]
  },
  {
   "cell_type": "markdown",
   "id": "3264f8cd-9730-46ea-8597-3fe7e8ad4083",
   "metadata": {},
   "source": [
    "### 6- Model Evaluation"
   ]
  },
  {
   "cell_type": "code",
   "execution_count": 12,
   "id": "36169ea1-bcbf-48d6-a825-0382e2929b21",
   "metadata": {},
   "outputs": [
    {
     "name": "stdout",
     "output_type": "stream",
     "text": [
      "Training MultinomialNB...\n",
      "\n",
      "MultinomialNB Results:\n",
      "Accuracy: 0.96\n",
      "Confusion Matrix:\n",
      " [[ 82   0   1   3]\n",
      " [  0 107   0   0]\n",
      " [  1   8 122   1]\n",
      " [  1   3   0 123]]\n",
      "Classification Report:\n",
      "               precision    recall  f1-score   support\n",
      "\n",
      "           0       0.98      0.95      0.96        86\n",
      "           1       0.91      1.00      0.95       107\n",
      "           2       0.99      0.92      0.96       132\n",
      "           3       0.97      0.97      0.97       127\n",
      "\n",
      "    accuracy                           0.96       452\n",
      "   macro avg       0.96      0.96      0.96       452\n",
      "weighted avg       0.96      0.96      0.96       452\n",
      "\n",
      "Training Bagging with DecisionTree...\n",
      "\n",
      "Bagging with DecisionTree Results:\n",
      "Accuracy: 0.85\n",
      "Confusion Matrix:\n",
      " [[ 68   2   6  10]\n",
      " [  3  95   9   0]\n",
      " [  6  12 113   1]\n",
      " [  7   5   7 108]]\n",
      "Classification Report:\n",
      "               precision    recall  f1-score   support\n",
      "\n",
      "           0       0.81      0.79      0.80        86\n",
      "           1       0.83      0.89      0.86       107\n",
      "           2       0.84      0.86      0.85       132\n",
      "           3       0.91      0.85      0.88       127\n",
      "\n",
      "    accuracy                           0.85       452\n",
      "   macro avg       0.85      0.85      0.85       452\n",
      "weighted avg       0.85      0.85      0.85       452\n",
      "\n",
      "Training Bagging with SVC...\n",
      "\n",
      "Bagging with SVC Results:\n",
      "Accuracy: 0.97\n",
      "Confusion Matrix:\n",
      " [[ 84   0   1   1]\n",
      " [  0 106   1   0]\n",
      " [  1   2 126   3]\n",
      " [  2   2   1 122]]\n",
      "Classification Report:\n",
      "               precision    recall  f1-score   support\n",
      "\n",
      "           0       0.97      0.98      0.97        86\n",
      "           1       0.96      0.99      0.98       107\n",
      "           2       0.98      0.95      0.97       132\n",
      "           3       0.97      0.96      0.96       127\n",
      "\n",
      "    accuracy                           0.97       452\n",
      "   macro avg       0.97      0.97      0.97       452\n",
      "weighted avg       0.97      0.97      0.97       452\n",
      "\n"
     ]
    }
   ],
   "source": [
    "results = evaluate_models(models, X_train, y_train, X_test, y_test)"
   ]
  },
  {
   "cell_type": "markdown",
   "id": "edbd7644-49d5-4bec-9616-85c412f4391a",
   "metadata": {
    "jp-MarkdownHeadingCollapsed": true
   },
   "source": [
    "### To build a bag-of-words model in Python, you can use the scikit-learn library. Steps to build a Bag of words model are:\n",
    "\n",
    "##### Subetting the dataset\n",
    "##### Plotting word frequencies and removing stopwords\n",
    "##### Tokenization\n",
    "##### Stemming\n",
    "##### Lemmatization\n",
    "\n",
    "### More About Each Steps Read Here...."
   ]
  },
  {
   "cell_type": "markdown",
   "id": "b6161014-5152-4084-9779-7d2c1da21977",
   "metadata": {},
   "source": [
    "#### 1. Subsetting the Dataset\n",
    "For this example, we'll use the 20 Newsgroups dataset, which is a common text classification dataset. It contains text from 20 different news categories."
   ]
  },
  {
   "cell_type": "code",
   "execution_count": 13,
   "id": "1756e6ca-3d88-4b6f-aa40-6f4dd92b54c2",
   "metadata": {},
   "outputs": [
    {
     "data": {
      "text/html": [
       "<div>\n",
       "<style scoped>\n",
       "    .dataframe tbody tr th:only-of-type {\n",
       "        vertical-align: middle;\n",
       "    }\n",
       "\n",
       "    .dataframe tbody tr th {\n",
       "        vertical-align: top;\n",
       "    }\n",
       "\n",
       "    .dataframe thead th {\n",
       "        text-align: right;\n",
       "    }\n",
       "</style>\n",
       "<table border=\"1\" class=\"dataframe\">\n",
       "  <thead>\n",
       "    <tr style=\"text-align: right;\">\n",
       "      <th></th>\n",
       "      <th>text</th>\n",
       "      <th>label</th>\n",
       "    </tr>\n",
       "  </thead>\n",
       "  <tbody>\n",
       "    <tr>\n",
       "      <th>0</th>\n",
       "      <td>From: sd345@city.ac.uk (Michael Collier)\\nSubj...</td>\n",
       "      <td>1</td>\n",
       "    </tr>\n",
       "    <tr>\n",
       "      <th>1</th>\n",
       "      <td>From: ani@ms.uky.edu (Aniruddha B. Deglurkar)\\...</td>\n",
       "      <td>1</td>\n",
       "    </tr>\n",
       "    <tr>\n",
       "      <th>2</th>\n",
       "      <td>From: djohnson@cs.ucsd.edu (Darin Johnson)\\nSu...</td>\n",
       "      <td>3</td>\n",
       "    </tr>\n",
       "    <tr>\n",
       "      <th>3</th>\n",
       "      <td>From: s0612596@let.rug.nl (M.M. Zwart)\\nSubjec...</td>\n",
       "      <td>3</td>\n",
       "    </tr>\n",
       "    <tr>\n",
       "      <th>4</th>\n",
       "      <td>From: stanly@grok11.columbiasc.ncr.com (stanly...</td>\n",
       "      <td>3</td>\n",
       "    </tr>\n",
       "  </tbody>\n",
       "</table>\n",
       "</div>"
      ],
      "text/plain": [
       "                                                text  label\n",
       "0  From: sd345@city.ac.uk (Michael Collier)\\nSubj...      1\n",
       "1  From: ani@ms.uky.edu (Aniruddha B. Deglurkar)\\...      1\n",
       "2  From: djohnson@cs.ucsd.edu (Darin Johnson)\\nSu...      3\n",
       "3  From: s0612596@let.rug.nl (M.M. Zwart)\\nSubjec...      3\n",
       "4  From: stanly@grok11.columbiasc.ncr.com (stanly...      3"
      ]
     },
     "execution_count": 13,
     "metadata": {},
     "output_type": "execute_result"
    }
   ],
   "source": [
    "from sklearn.datasets import fetch_20newsgroups\n",
    "import pandas as pd\n",
    "\n",
    "# Load dataset with a subset of categories\n",
    "categories = ['alt.atheism', 'comp.graphics', 'sci.med', 'soc.religion.christian']\n",
    "newsgroups = fetch_20newsgroups(subset='train', categories=categories)\n",
    "data = newsgroups.data\n",
    "target = newsgroups.target\n",
    "\n",
    "# Create a DataFrame\n",
    "df = pd.DataFrame({'text': data, 'label': target})\n",
    "\n",
    "# Display first few rows\n",
    "df.head()\n"
   ]
  },
  {
   "cell_type": "markdown",
   "id": "2c304a47-af99-4968-9d24-7c8f47339493",
   "metadata": {},
   "source": [
    "#### 2. Plotting Word Frequencies and Removing Stopwords\n",
    "Before building the BoW model, it's essential to analyze the word frequencies in the text. We also need to remove stopwords—common words like \"and\", \"is\", \"in\", etc., that usually don't contribute to the text's meaning."
   ]
  },
  {
   "cell_type": "code",
   "execution_count": 14,
   "id": "8c6f916e-f7ba-4b42-8193-857d41bd239c",
   "metadata": {},
   "outputs": [
    {
     "data": {
      "image/png": "[encoded data removed]",
      "text/plain": [
       "<Figure size 1000x600 with 1 Axes>"
      ]
     },
     "metadata": {},
     "output_type": "display_data"
    }
   ],
   "source": [
    "import matplotlib.pyplot as plt\n",
    "from sklearn.feature_extraction.text import CountVectorizer\n",
    "\n",
    "# Initialize CountVectorizer with stop words\n",
    "vectorizer = CountVectorizer(stop_words='english')\n",
    "\n",
    "# Fit and transform the text data\n",
    "X = vectorizer.fit_transform(df['text'])\n",
    "\n",
    "# Convert to a DataFrame\n",
    "word_freq_df = pd.DataFrame({'word': vectorizer.get_feature_names_out(), 'frequency': X.toarray().sum(axis=0)})\n",
    "\n",
    "# Sort by frequency\n",
    "word_freq_df = word_freq_df.sort_values(by='frequency', ascending=False)\n",
    "\n",
    "# Plot top 20 words\n",
    "plt.figure(figsize=(10, 6))\n",
    "plt.bar(word_freq_df['word'].head(20), word_freq_df['frequency'].head(20), color='blue')\n",
    "plt.title('Top 20 Words by Frequency')\n",
    "plt.xticks(rotation=45)\n",
    "plt.show()\n"
   ]
  },
  {
   "cell_type": "markdown",
   "id": "3203afea-57cb-4f36-99c8-90d7d6582abe",
   "metadata": {},
   "source": [
    "#### 3. Tokenization\n",
    "Tokenization is the process of converting a text into individual words or tokens."
   ]
  },
  {
   "cell_type": "code",
   "execution_count": 15,
   "id": "549789eb-2dc1-48e8-9240-b9703f974a92",
   "metadata": {},
   "outputs": [
    {
     "data": {
      "text/plain": [
       "0    [From, :, sd345, @, city.ac.uk, (, Michael, Co...\n",
       "1    [From, :, ani, @, ms.uky.edu, (, Aniruddha, B....\n",
       "2    [From, :, djohnson, @, cs.ucsd.edu, (, Darin, ...\n",
       "3    [From, :, s0612596, @, let.rug.nl, (, M.M, ., ...\n",
       "4    [From, :, stanly, @, grok11.columbiasc.ncr.com...\n",
       "Name: tokens, dtype: object"
      ]
     },
     "execution_count": 15,
     "metadata": {},
     "output_type": "execute_result"
    }
   ],
   "source": [
    "import nltk\n",
    "# nltk.download('punkt_tab')\n",
    "from nltk.tokenize import word_tokenize\n",
    "\n",
    "# Tokenize the text data\n",
    "df['tokens'] = df['text'].apply(word_tokenize)\n",
    "df['tokens'].head()"
   ]
  },
  {
   "cell_type": "markdown",
   "id": "9748b833-d31c-4b02-9c30-17bdc5782478",
   "metadata": {},
   "source": [
    "#### 4. Stemming\n",
    "Stemming reduces words to their root form by removing suffixes. For example, \"running\" becomes \"run.\""
   ]
  },
  {
   "cell_type": "code",
   "execution_count": 16,
   "id": "1c51c0e4-0378-430c-9e9a-6caba78569f7",
   "metadata": {},
   "outputs": [
    {
     "data": {
      "text/plain": [
       "0    [from, :, sd345, @, city.ac.uk, (, michael, co...\n",
       "1    [from, :, ani, @, ms.uky.edu, (, aniruddha, b....\n",
       "2    [from, :, djohnson, @, cs.ucsd.edu, (, darin, ...\n",
       "3    [from, :, s0612596, @, let.rug.nl, (, m.m, ., ...\n",
       "4    [from, :, stanli, @, grok11.columbiasc.ncr.com...\n",
       "Name: stemmed, dtype: object"
      ]
     },
     "execution_count": 16,
     "metadata": {},
     "output_type": "execute_result"
    }
   ],
   "source": [
    "from nltk.stem import PorterStemmer\n",
    "\n",
    "# Initialize stemmer\n",
    "stemmer = PorterStemmer()\n",
    "\n",
    "# Apply stemming\n",
    "df['stemmed'] = df['tokens'].apply(lambda tokens: [stemmer.stem(token) for token in tokens])\n",
    "df['stemmed'].head()"
   ]
  },
  {
   "cell_type": "markdown",
   "id": "ba468eb1-a33d-4d83-a13a-d4ebb6aadad8",
   "metadata": {},
   "source": [
    "#### 5. Lemmatization\n",
    "Lemmatization also reduces words to their root form, but it is more sophisticated than stemming. It considers the meaning of the word. For example, \"better\" becomes \"good.\""
   ]
  },
  {
   "cell_type": "code",
   "execution_count": 17,
   "id": "046ac48a-b3bb-4094-b829-2d1462e47acc",
   "metadata": {},
   "outputs": [
    {
     "data": {
      "text/plain": [
       "0    [From, :, sd345, @, city.ac.uk, (, Michael, Co...\n",
       "1    [From, :, ani, @, ms.uky.edu, (, Aniruddha, B....\n",
       "2    [From, :, djohnson, @, cs.ucsd.edu, (, Darin, ...\n",
       "3    [From, :, s0612596, @, let.rug.nl, (, M.M, ., ...\n",
       "4    [From, :, stanly, @, grok11.columbiasc.ncr.com...\n",
       "Name: lemmatized, dtype: object"
      ]
     },
     "execution_count": 17,
     "metadata": {},
     "output_type": "execute_result"
    }
   ],
   "source": [
    "from nltk.stem import WordNetLemmatizer\n",
    "# nltk.download('wordnet')\n",
    "# nltk.download('omw-1.4')\n",
    "\n",
    "# Initialize lemmatizer\n",
    "lemmatizer = WordNetLemmatizer()\n",
    "\n",
    "# Apply lemmatization\n",
    "df['lemmatized'] = df['tokens'].apply(lambda tokens: [lemmatizer.lemmatize(token) for token in tokens])\n",
    "df['lemmatized'].head()"
   ]
  },
  {
   "cell_type": "markdown",
   "id": "bcb41ffa-1fb8-460a-823b-ed00a587dbad",
   "metadata": {},
   "source": [
    "#### 6. Build the Bag-of-Words Model\n",
    "Now that the text is preprocessed, we can create the BoW model using Scikit-Learn's CountVectorizer."
   ]
  },
  {
   "cell_type": "code",
   "execution_count": 18,
   "id": "60859145-6ac3-4456-a1c6-6b33997199b5",
   "metadata": {},
   "outputs": [
    {
     "name": "stdout",
     "output_type": "stream",
     "text": [
      "BoW Model Shape: (2257, 5000)\n"
     ]
    }
   ],
   "source": [
    "# Initialize CountVectorizer\n",
    "bow_vectorizer = CountVectorizer(max_features=5000, stop_words='english')\n",
    "\n",
    "# Fit and transform the text data\n",
    "X_bow = bow_vectorizer.fit_transform(df['text'])\n",
    "\n",
    "# Display the BoW model shape\n",
    "print(f\"BoW Model Shape: {X_bow.shape}\")"
   ]
  },
  {
   "cell_type": "code",
   "execution_count": null,
   "id": "6fef0c4b-58ca-4f0d-bd5b-a814b37ae939",
   "metadata": {},
   "outputs": [],
   "source": []
  }
 ],
 "metadata": {
  "kernelspec": {
   "display_name": "Python 3 (ipykernel)",
   "language": "python",
   "name": "python3"
  },
  "language_info": {
   "codemirror_mode": {
    "name": "ipython",
    "version": 3
   },
   "file_extension": ".py",
   "mimetype": "text/x-python",
   "name": "python",
   "nbconvert_exporter": "python",
   "pygments_lexer": "ipython3",
   "version": "3.11.8"
  }
 },
 "nbformat": 4,
 "nbformat_minor": 5
}
